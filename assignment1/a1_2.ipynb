{
 "cells": [
  {
   "cell_type": "code",
   "execution_count": 8,
   "id": "4ae8a80a",
   "metadata": {},
   "outputs": [
    {
     "name": "stdout",
     "output_type": "stream",
     "text": [
      "Percentage of lost packets per hour:\n",
      "['0.0%', '0.0%', '0.0%', '0.0%', '0.0%', '0.0%', '0.0%', '0.0%', '0.0%', '0.0%', '0.0%', '0.0%']\n"
     ]
    }
   ],
   "source": [
    "def solution1():\n",
    "    transmitted_list = []\n",
    "    received_list = []\n",
    "    for line in open('sourcefile.txt'):\n",
    "        if 'received' in line:\n",
    "            parts = line.split(' ')\n",
    "            transmitted_list.append(int(parts[0]))\n",
    "            received_list.append(int(parts[3]))\n",
    "    received_per_hour = [received_list[i:i+6] for i in range(0, len(received_list), 6)]\n",
    "    transmitted_per_hour = [transmitted_list[i:i+6] for i in range(0, len(transmitted_list), 6)]\n",
    "    #print(received_per_hour)\n",
    "    #print(transmitted_per_hour)\n",
    "    percentage_loss_per_hour = []\n",
    "    for i in range(0,12):\n",
    "        res = (1-sum(received_per_hour[i])/sum(transmitted_per_hour[i]))/100\n",
    "        percentage_loss_per_hour.append(str(res)+'%')\n",
    "    print('Percentage of lost packets per hour:')\n",
    "    print(percentage_loss_per_hour)\n",
    "\n",
    "solution1()"
   ]
  },
  {
   "cell_type": "code",
   "execution_count": 30,
   "id": "47ed378f",
   "metadata": {},
   "outputs": [
    {
     "name": "stdout",
     "output_type": "stream",
     "text": [
      "Average of successful RTT measurements per hour:\n",
      "[3.95, 4.07, 4.14, 5.04, 5.4, 5.62, 5.5, 5.35, 5.31, 4.82, 4.73, 4.43]\n"
     ]
    }
   ],
   "source": [
    "import numpy as np\n",
    "def solution2():\n",
    "    rtt_list = []\n",
    "    avg_list = []\n",
    "    count_list = []\n",
    "    for line in open('sourcefile.txt'):\n",
    "        if 'rtt' in line:\n",
    "            parts = line.split(' ')\n",
    "            rtt_list.append(float(parts[3].split('/')[1]))\n",
    "        if 'received' in line:\n",
    "            parts = line.split(' ')\n",
    "            count_list.append(int(parts[3]))\n",
    "    \n",
    "    for i in range(0,12):\n",
    "        a = np.array(rtt_list[i:i+6])\n",
    "        b = np.array(count_list[i:i+6])\n",
    "        avg_list.append(float(format(a.dot(b)/sum(b), '.2f')))\n",
    "    \n",
    "    #print(len(rtt_list))\n",
    "    print('Average of successful RTT measurements per hour:')\n",
    "    print(avg_list)\n",
    "    \n",
    "solution2()"
   ]
  },
  {
   "cell_type": "code",
   "execution_count": 25,
   "id": "16d0c2d0",
   "metadata": {},
   "outputs": [
    {
     "name": "stdout",
     "output_type": "stream",
     "text": [
      "Medium of RTT per hour:\n",
      "[3.92, 4.78, 3.99, 4.19, 3.88, 4.6, 4.29, 4.06, 3.92, 4.42, 4.78, 4.51]\n"
     ]
    }
   ],
   "source": [
    "from numpy import median\n",
    "def solution3():\n",
    "    rtt_list = []\n",
    "    rtt_hour = []\n",
    "    count_hour = 0\n",
    "    median_per_hour = []\n",
    "    for line in open('sourcefile.txt'):\n",
    "        if len(rtt_hour) == 6*20:\n",
    "            rtt_list.append(rtt_hour)\n",
    "            rtt_hour=[]\n",
    "        if 'time=' in line:\n",
    "            parts = line.split(' ')\n",
    "            rtt_hour.append(float(parts[7].split('=')[1]))\n",
    "        if 'received' in line:\n",
    "            parts = line.split(' ')\n",
    "            rtt_hour += [float('inf') for i in range(0, int(parts[0])-int(parts[3]))]\n",
    "        \n",
    "    median_per_hour = [float(format(median(l), '.2f')) for l in rtt_list]                    \n",
    "    print(\"Medium of RTT per hour:\")\n",
    "    print(median_per_hour)\n",
    "          \n",
    "            \n",
    "solution3()"
   ]
  },
  {
   "cell_type": "code",
   "execution_count": null,
   "id": "e5f0affe",
   "metadata": {},
   "outputs": [],
   "source": []
  }
 ],
 "metadata": {
  "kernelspec": {
   "display_name": "Python 3 (ipykernel)",
   "language": "python",
   "name": "python3"
  },
  "language_info": {
   "codemirror_mode": {
    "name": "ipython",
    "version": 3
   },
   "file_extension": ".py",
   "mimetype": "text/x-python",
   "name": "python",
   "nbconvert_exporter": "python",
   "pygments_lexer": "ipython3",
   "version": "3.8.10"
  }
 },
 "nbformat": 4,
 "nbformat_minor": 5
}
